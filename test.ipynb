{
 "cells": [
  {
   "cell_type": "code",
   "execution_count": 61,
   "metadata": {},
   "outputs": [],
   "source": [
    "import os\n",
    "import sqlite3\n",
    "import pandas as pd\n",
    "import streamlit as st\n",
    "import plotly.express as px"
   ]
  },
  {
   "cell_type": "code",
   "execution_count": 62,
   "metadata": {},
   "outputs": [],
   "source": [
    "\n",
    "\n",
    "def create_connection(db_file: str):\n",
    "    sqlite_connection = None\n",
    "    try:\n",
    "        sqlite_connection = sqlite3.connect(db_file)\n",
    "    except Exception as e:\n",
    "        st.write(e)\n",
    "    return sqlite_connection\n",
    "\n",
    "def run_query():\n",
    "    st.markdown(\"# Run Query\")\n",
    "    sqlite_dbs = [file for file in os.listdir(\".\") if file.endswith(\".db\")]\n",
    "    db_filename = st.selectbox(\"Database File\", sqlite_dbs)\n",
    "\n",
    "    qery = st.text_area(\"SQL query\", height=50)\n",
    "    conn = create_connection(db_filename)\n",
    "\n",
    "    submitted = st.button(\"submit\")\n",
    "    \n",
    "    if submitted:\n",
    "        pass\n",
    "    pass\n",
    "\n",
    "sqlite_connection = sqlite3.connect(\"bce.db\")\n",
    "\n",
    "cursor = sqlite_connection.cursor()\n",
    "a = cursor.execute(\"\"\"\n",
    "                    select JuridicalForm as 'form', count(JuridicalForm) as 'count' \n",
    "                    from enterprise group by JuridicalForm;\n",
    "                    \"\"\")"
   ]
  },
  {
   "cell_type": "code",
   "execution_count": 63,
   "metadata": {},
   "outputs": [
    {
     "data": {
      "text/plain": [
       "<sqlite3.Cursor at 0x7fd2b8bceb90>"
      ]
     },
     "execution_count": 63,
     "metadata": {},
     "output_type": "execute_result"
    }
   ],
   "source": [
    "a"
   ]
  },
  {
   "cell_type": "code",
   "execution_count": 64,
   "metadata": {},
   "outputs": [],
   "source": [
    "cols = [column[0] for column in a.description]\n",
    "# print(a.fetchall())\n",
    "juridical = a.fetchall()\n",
    "juridical.remove(juridical[0])\n",
    "df = pd.DataFrame.from_records(data=juridical, columns=cols)\n"
   ]
  },
  {
   "cell_type": "code",
   "execution_count": 65,
   "metadata": {},
   "outputs": [
    {
     "data": {
      "text/plain": [
       "form     object\n",
       "count     int64\n",
       "dtype: object"
      ]
     },
     "execution_count": 65,
     "metadata": {},
     "output_type": "execute_result"
    }
   ],
   "source": [
    "df.dtypes"
   ]
  },
  {
   "cell_type": "code",
   "execution_count": 66,
   "metadata": {},
   "outputs": [
    {
     "name": "stderr",
     "output_type": "stream",
     "text": [
      "/var/folders/vl/8lln9s0x0198jc8m81yt74nm0000gn/T/ipykernel_9837/3038845093.py:4: SettingWithCopyWarning:\n",
      "\n",
      "\n",
      "A value is trying to be set on a copy of a slice from a DataFrame\n",
      "\n",
      "See the caveats in the documentation: https://pandas.pydata.org/pandas-docs/stable/user_guide/indexing.html#returning-a-view-versus-a-copy\n",
      "\n"
     ]
    },
    {
     "data": {
      "text/html": [
       "<div>\n",
       "<style scoped>\n",
       "    .dataframe tbody tr th:only-of-type {\n",
       "        vertical-align: middle;\n",
       "    }\n",
       "\n",
       "    .dataframe tbody tr th {\n",
       "        vertical-align: top;\n",
       "    }\n",
       "\n",
       "    .dataframe thead th {\n",
       "        text-align: right;\n",
       "    }\n",
       "</style>\n",
       "<table border=\"1\" class=\"dataframe\">\n",
       "  <thead>\n",
       "    <tr style=\"text-align: right;\">\n",
       "      <th></th>\n",
       "      <th>count</th>\n",
       "    </tr>\n",
       "    <tr>\n",
       "      <th>form</th>\n",
       "      <th></th>\n",
       "    </tr>\n",
       "  </thead>\n",
       "  <tbody>\n",
       "    <tr>\n",
       "      <th>3</th>\n",
       "      <td>7673.0</td>\n",
       "    </tr>\n",
       "    <tr>\n",
       "      <th>8</th>\n",
       "      <td>12487.0</td>\n",
       "    </tr>\n",
       "    <tr>\n",
       "      <th>11</th>\n",
       "      <td>23453.0</td>\n",
       "    </tr>\n",
       "    <tr>\n",
       "      <th>12</th>\n",
       "      <td>33097.0</td>\n",
       "    </tr>\n",
       "    <tr>\n",
       "      <th>14</th>\n",
       "      <td>99035.0</td>\n",
       "    </tr>\n",
       "    <tr>\n",
       "      <th>15</th>\n",
       "      <td>356509.0</td>\n",
       "    </tr>\n",
       "    <tr>\n",
       "      <th>16</th>\n",
       "      <td>11655.0</td>\n",
       "    </tr>\n",
       "    <tr>\n",
       "      <th>17</th>\n",
       "      <td>140375.0</td>\n",
       "    </tr>\n",
       "    <tr>\n",
       "      <th>30</th>\n",
       "      <td>61875.0</td>\n",
       "    </tr>\n",
       "    <tr>\n",
       "      <th>70</th>\n",
       "      <td>94015.0</td>\n",
       "    </tr>\n",
       "    <tr>\n",
       "      <th>124</th>\n",
       "      <td>5084.0</td>\n",
       "    </tr>\n",
       "    <tr>\n",
       "      <th>235</th>\n",
       "      <td>12321.0</td>\n",
       "    </tr>\n",
       "    <tr>\n",
       "      <th>610</th>\n",
       "      <td>170607.0</td>\n",
       "    </tr>\n",
       "    <tr>\n",
       "      <th>612</th>\n",
       "      <td>17228.0</td>\n",
       "    </tr>\n",
       "    <tr>\n",
       "      <th>721</th>\n",
       "      <td>25178.0</td>\n",
       "    </tr>\n",
       "    <tr>\n",
       "      <th>other</th>\n",
       "      <td>29057.0</td>\n",
       "    </tr>\n",
       "  </tbody>\n",
       "</table>\n",
       "</div>"
      ],
      "text/plain": [
       "          count\n",
       "form           \n",
       "3        7673.0\n",
       "8       12487.0\n",
       "11      23453.0\n",
       "12      33097.0\n",
       "14      99035.0\n",
       "15     356509.0\n",
       "16      11655.0\n",
       "17     140375.0\n",
       "30      61875.0\n",
       "70      94015.0\n",
       "124      5084.0\n",
       "235     12321.0\n",
       "610    170607.0\n",
       "612     17228.0\n",
       "721     25178.0\n",
       "other   29057.0"
      ]
     },
     "execution_count": 66,
     "metadata": {},
     "output_type": "execute_result"
    }
   ],
   "source": [
    "df.form = df.form.astype(int)\n",
    "counts = df.groupby('form').sum()\n",
    "over5000 = counts[counts['count'] >= 5000]\n",
    "over5000.loc['other', 'count'] = counts[counts['count'] < 5000].sum()[0]\n",
    "df.columns = ['form', 'count']\n",
    "# fig = px.pie(over5000, values='form')\n",
    "# st.plotly_chart(fig, use_container_width=True)\n",
    "# fig\n",
    "over5000"
   ]
  },
  {
   "cell_type": "code",
   "execution_count": null,
   "metadata": {},
   "outputs": [],
   "source": []
  }
 ],
 "metadata": {
  "kernelspec": {
   "display_name": "Python 3.9.12 ('venv': venv)",
   "language": "python",
   "name": "python3"
  },
  "language_info": {
   "codemirror_mode": {
    "name": "ipython",
    "version": 3
   },
   "file_extension": ".py",
   "mimetype": "text/x-python",
   "name": "python",
   "nbconvert_exporter": "python",
   "pygments_lexer": "ipython3",
   "version": "3.9.12"
  },
  "orig_nbformat": 4,
  "vscode": {
   "interpreter": {
    "hash": "9a5d54280a15eff3788879d8240698828ed4448182e19e06ab751c0ed628d356"
   }
  }
 },
 "nbformat": 4,
 "nbformat_minor": 2
}
